{
 "cells": [
  {
   "cell_type": "code",
   "execution_count": 23,
   "metadata": {},
   "outputs": [],
   "source": [
    "import torch\n",
    "import matplotlib.pyplot as plt\n",
    "%matplotlib inline\n",
    "\n",
    "import torch.nn.functional as F"
   ]
  },
  {
   "cell_type": "code",
   "execution_count": null,
   "metadata": {},
   "outputs": [],
   "source": []
  },
  {
   "cell_type": "code",
   "execution_count": 5,
   "metadata": {},
   "outputs": [],
   "source": [
    "def generate_gaussian(labels, sigma=1, resol=46):\n",
    "    \"\"\"\n",
    "    cpu version of generate_gaussian_groundtruth. 4x speed up.\n",
    "    Implemented on 10/26/2018. Works fine.\n",
    "\n",
    "    Args: \n",
    "        labels, torch.Tensor, 21*2, first column is x(horizontal),\n",
    "                second column is y(vertical, from top to bottom)\n",
    "\n",
    "    Returns:\n",
    "        heatmaps, torch.Tensor, 21*46*46   \n",
    "    \"\"\"\n",
    "    #labels = torch.from_numpy(labels).float().cuda()\n",
    "    labels = labels\n",
    "    # construct 3-D tensor a, which stores (column(x), row(y)) for each pixel \n",
    "    a = torch.zeros((resol,resol,2))\n",
    "    a[...,0] = a[...,0] + torch.Tensor(range(resol)).unsqueeze(0)\n",
    "    a[...,1] = a[...,1] + torch.Tensor(range(resol)).unsqueeze(1)\n",
    "    a = a.unsqueeze(0)\n",
    "    labels = labels.unsqueeze(-2).unsqueeze(-2)\n",
    "    exponent = torch.sum((a - labels)**2, dim=-1)\n",
    "    heatmaps = torch.exp(-exponent / 2.0 / sigma / sigma)\n",
    "    return heatmaps"
   ]
  },
  {
   "cell_type": "code",
   "execution_count": 51,
   "metadata": {},
   "outputs": [],
   "source": [
    "label = torch.Tensor([[16,22]])\n",
    "a = generate_gaussian(label,resol=45).squeeze()"
   ]
  },
  {
   "cell_type": "code",
   "execution_count": 52,
   "metadata": {},
   "outputs": [
    {
     "data": {
      "text/plain": [
       "torch.Size([45, 45])"
      ]
     },
     "execution_count": 52,
     "metadata": {},
     "output_type": "execute_result"
    }
   ],
   "source": [
    "a.shape"
   ]
  },
  {
   "cell_type": "code",
   "execution_count": 53,
   "metadata": {},
   "outputs": [
    {
     "data": {
      "text/plain": [
       "<matplotlib.image.AxesImage at 0x7f5b9f6295c0>"
      ]
     },
     "execution_count": 53,
     "metadata": {},
     "output_type": "execute_result"
    },
    {
     "data": {
      "image/png": "[encoded data removed]",
      "text/plain": [
       "<Figure size 432x288 with 1 Axes>"
      ]
     },
     "metadata": {
      "needs_background": "light"
     },
     "output_type": "display_data"
    }
   ],
   "source": [
    "plt.imshow(a.numpy())"
   ]
  },
  {
   "cell_type": "code",
   "execution_count": 54,
   "metadata": {},
   "outputs": [],
   "source": [
    "b = torch.zeros((46,46))\n",
    "b[15:35,15:35] = 1"
   ]
  },
  {
   "cell_type": "code",
   "execution_count": 55,
   "metadata": {},
   "outputs": [
    {
     "data": {
      "text/plain": [
       "<matplotlib.image.AxesImage at 0x7f5b9f584be0>"
      ]
     },
     "execution_count": 55,
     "metadata": {},
     "output_type": "execute_result"
    },
    {
     "data": {
      "image/png": "[encoded data removed]",
      "text/plain": [
       "<Figure size 432x288 with 1 Axes>"
      ]
     },
     "metadata": {
      "needs_background": "light"
     },
     "output_type": "display_data"
    }
   ],
   "source": [
    "plt.imshow(b.numpy())"
   ]
  },
  {
   "cell_type": "code",
   "execution_count": 56,
   "metadata": {},
   "outputs": [
    {
     "data": {
      "text/plain": [
       "(torch.Size([45, 45]), torch.Size([46, 46]))"
      ]
     },
     "execution_count": 56,
     "metadata": {},
     "output_type": "execute_result"
    }
   ],
   "source": [
    "a.shape, b.shape"
   ]
  },
  {
   "cell_type": "code",
   "execution_count": 57,
   "metadata": {},
   "outputs": [],
   "source": [
    "conv_ab = F.conv2d(b.unsqueeze(0).unsqueeze(0), a.unsqueeze(0).unsqueeze(0),stride=1,padding=22)"
   ]
  },
  {
   "cell_type": "code",
   "execution_count": 58,
   "metadata": {},
   "outputs": [
    {
     "data": {
      "text/plain": [
       "<matplotlib.image.AxesImage at 0x7f5b9f557f98>"
      ]
     },
     "execution_count": 58,
     "metadata": {},
     "output_type": "execute_result"
    },
    {
     "data": {
      "image/png": "[encoded data removed]",
      "text/plain": [
       "<Figure size 432x288 with 1 Axes>"
      ]
     },
     "metadata": {
      "needs_background": "light"
     },
     "output_type": "display_data"
    }
   ],
   "source": [
    "plt.imshow(conv_ab.squeeze().numpy())"
   ]
  },
  {
   "cell_type": "code",
   "execution_count": null,
   "metadata": {},
   "outputs": [],
   "source": []
  },
  {
   "cell_type": "code",
   "execution_count": 59,
   "metadata": {},
   "outputs": [],
   "source": [
    "a =[\n",
    "    12, #dafa\n",
    "    23,\n",
    "    35, #daf\n",
    "]"
   ]
  },
  {
   "cell_type": "code",
   "execution_count": 60,
   "metadata": {},
   "outputs": [
    {
     "data": {
      "text/plain": [
       "[12, 23, 35]"
      ]
     },
     "execution_count": 60,
     "metadata": {},
     "output_type": "execute_result"
    }
   ],
   "source": [
    "a"
   ]
  },
  {
   "cell_type": "code",
   "execution_count": 62,
   "metadata": {},
   "outputs": [],
   "source": [
    "    \n",
    "import torch\n",
    "from torch import nn\n",
    "import torch.nn.functional as F"
   ]
  },
  {
   "cell_type": "code",
   "execution_count": 63,
   "metadata": {},
   "outputs": [],
   "source": [
    "class TreeModel(nn.Module):\n",
    "    \"\"\"\n",
    "        0---1---2---3---4\n",
    "        |---5---6---7---8\n",
    "        |---9---10---11---12\n",
    "        |---13---14---15---16\n",
    "        |---17---18---19---20\n",
    "    \"\"\"\n",
    "    def __init__(self):\n",
    "        super().__init__()\n",
    "        batch_size = 4\n",
    "        self.kernel_size = 45\n",
    "        self.kernels = torch.randn(batch_size, 40, int(self.kernel_size), int(self.kernel_size)) # batch_size, 20x2 edges (upwards and downwards). 45x45 resolution\n",
    "        self.bias = torch.zeros(batch_size,40)\n",
    "        self.edges = {\n",
    "                    'upwards': [[4,3], [3,2], [2,1], [1,0],       # thumb\n",
    "                                [8,7], [7,6], [6,5], [5,0],       # index finger    \n",
    "                                [12,11], [11,10], [10,9],[9,0],   # middle finger\n",
    "                                [16,15],[15,14],[14,13],[13,0],   # ring finger\n",
    "                                [20,19],[19,18],[18,17],[17,0]    # little finger\n",
    "                    ],\n",
    "                    'downwards':[[0,1], [1,2], [2,3], [3,4],\n",
    "                                 [0,5], [5,6], [6,7], [7,8],\n",
    "                                 [0,9], [9,10],[10,11],[11,12],\n",
    "                                 [0,13], [13,14],[14,15],[15,16],\n",
    "                                 [0,17],[17,18],[18,19],[19,20]\n",
    "                    ]\n",
    "        }"
   ]
  },
  {
   "cell_type": "code",
   "execution_count": 64,
   "metadata": {},
   "outputs": [],
   "source": [
    "treemodel = TreeModel()"
   ]
  },
  {
   "cell_type": "code",
   "execution_count": 66,
   "metadata": {},
   "outputs": [
    {
     "data": {
      "text/plain": [
       "TreeModel()"
      ]
     },
     "execution_count": 66,
     "metadata": {},
     "output_type": "execute_result"
    }
   ],
   "source": [
    "treemodel.cuda()"
   ]
  },
  {
   "cell_type": "code",
   "execution_count": null,
   "metadata": {},
   "outputs": [],
   "source": []
  },
  {
   "cell_type": "code",
   "execution_count": 78,
   "metadata": {},
   "outputs": [],
   "source": [
    "x= torch.tensor([5.],requires_grad=True)"
   ]
  },
  {
   "cell_type": "code",
   "execution_count": 79,
   "metadata": {},
   "outputs": [
    {
     "data": {
      "text/plain": [
       "True"
      ]
     },
     "execution_count": 79,
     "metadata": {},
     "output_type": "execute_result"
    }
   ],
   "source": [
    "x.requires_grad"
   ]
  },
  {
   "cell_type": "code",
   "execution_count": 80,
   "metadata": {},
   "outputs": [],
   "source": [
    "y = x**2"
   ]
  },
  {
   "cell_type": "code",
   "execution_count": 81,
   "metadata": {},
   "outputs": [],
   "source": [
    "y.backward()"
   ]
  },
  {
   "cell_type": "code",
   "execution_count": 82,
   "metadata": {},
   "outputs": [
    {
     "data": {
      "text/plain": [
       "tensor([10.])"
      ]
     },
     "execution_count": 82,
     "metadata": {},
     "output_type": "execute_result"
    }
   ],
   "source": [
    "x.grad"
   ]
  },
  {
   "cell_type": "code",
   "execution_count": 84,
   "metadata": {},
   "outputs": [],
   "source": [
    "z = torch.tensor([4.], requires_grad=True)"
   ]
  },
  {
   "cell_type": "code",
   "execution_count": 90,
   "metadata": {},
   "outputs": [],
   "source": [
    "w = torch.zeros(2)"
   ]
  },
  {
   "cell_type": "code",
   "execution_count": 91,
   "metadata": {},
   "outputs": [
    {
     "data": {
      "text/plain": [
       "tensor([0., 0.])"
      ]
     },
     "execution_count": 91,
     "metadata": {},
     "output_type": "execute_result"
    }
   ],
   "source": [
    "w"
   ]
  },
  {
   "cell_type": "code",
   "execution_count": 92,
   "metadata": {},
   "outputs": [],
   "source": [
    "w[0] = z**2"
   ]
  },
  {
   "cell_type": "code",
   "execution_count": 94,
   "metadata": {},
   "outputs": [],
   "source": [
    "w[0].backward()"
   ]
  },
  {
   "cell_type": "code",
   "execution_count": 95,
   "metadata": {},
   "outputs": [
    {
     "data": {
      "text/plain": [
       "tensor([8.])"
      ]
     },
     "execution_count": 95,
     "metadata": {},
     "output_type": "execute_result"
    }
   ],
   "source": [
    "z.grad"
   ]
  },
  {
   "cell_type": "code",
   "execution_count": 98,
   "metadata": {},
   "outputs": [],
   "source": [
    "directed_edges = [                       # start of schedule from leaves to root\n",
    "                        [[4,3], []],     # edge 0, [[from_joint=4, to_joint=3],[empty other incoming edge]]\n",
    "                        [[3,2], [0]],    # edge 1\n",
    "                        [[2,1], [1]],    # edge 2\n",
    "                        [[1,0], [2]],    # edge 3\n",
    "\n",
    "                        [[8,7], []],     # edge 4\n",
    "                        [[7,6], [4]],    # edge 5\n",
    "                        [[6,5], [5]],    # edge 6\n",
    "                        [[5,0], [6]],    # edge 7\n",
    "\n",
    "                        [[12,11], []],   # edge 8\n",
    "                        [[11,10], [8]],  # edge 9\n",
    "                        [[10,9], [9]],   # edge 10\n",
    "                        [[9,0], [10]],   # edge 11\n",
    "\n",
    "                        [[16,15], []],   # edge 12\n",
    "                        [[15,14], [12]], # edge 13\n",
    "                        [[14,13], [13]], # edge 14\n",
    "                        [[13,0], [14]],  # edge 15\n",
    "\n",
    "                        [[20,19], []],   # edge 16\n",
    "                        [[19,18], [16]], # edge 17\n",
    "                        [[18,17], [17]], # edge 18\n",
    "                        [[17,0], [18]],  # edge 19   # end of schedule from leaves to root\n",
    "\n",
    "                        [[0,1], [7, 11, 15, 19]], # edge 20  # start of schedule from root to leaves\n",
    "                        [[1,2], [20]],   # edge 21\n",
    "                        [[2,3], [21]],   # edge 22\n",
    "                        [[3,4], [22]],   # edge 23\n",
    "\n",
    "                        [[0,5], [3,11,15,19]],  # edge 24\n",
    "                        [[5,6], [24]],   # edge 25\n",
    "                        [[6,7], [25]],   # edge 26\n",
    "                        [[7,8], [26]],   # edge 27\n",
    "\n",
    "                        [[0,9], [3,7,15,19]],   # edge 28\n",
    "                        [[9,10], [28]],  # edge 29\n",
    "                        [[10,11], [29]], # edge 30\n",
    "                        [[11,12], [30]], # edge 31\n",
    "\n",
    "                        [[0,13], [3,7,11,19]],   # edge 32\n",
    "                        [[13,14], [32]], # edge 33\n",
    "                        [[14,15], [33]], # edge 34\n",
    "                        [[15,16], [34]], # edge 35\n",
    "\n",
    "                        [[0,17], [3,7,11,15]],   # edge 36\n",
    "                        [[17,18], [36]], # edge 37\n",
    "                        [[18,19], [37]], # edge 38\n",
    "                        [[19,20], [38]]  # edge 39         # end of schedule from root to leaves \n",
    "                    ]"
   ]
  },
  {
   "cell_type": "code",
   "execution_count": 104,
   "metadata": {},
   "outputs": [],
   "source": [
    "    def mul_by_log_exp(*args):\n",
    "        \"\"\"\n",
    "        Performs multiplication by taking log first then take exp.\n",
    "        Returns a scaled product of the args.\n",
    "\n",
    "        Args:\n",
    "            bs x 1 x 45 x 45\n",
    "        \"\"\"\n",
    "        # log_y = torch.log(args[0]+1e-16)\n",
    "        # for x in args[1:]:\n",
    "        #     log_y = log_y + torch.log(x+1e-16)\n",
    "        return sum(args)\n",
    "        "
   ]
  },
  {
   "cell_type": "code",
   "execution_count": 113,
   "metadata": {},
   "outputs": [
    {
     "data": {
      "text/plain": [
       "31"
      ]
     },
     "execution_count": 113,
     "metadata": {},
     "output_type": "execute_result"
    }
   ],
   "source": [
    "mul_by_log_exp(13,15,*[3])"
   ]
  },
  {
   "cell_type": "code",
   "execution_count": 108,
   "metadata": {},
   "outputs": [],
   "source": [
    "x = torch.zeros(4,5)"
   ]
  },
  {
   "cell_type": "code",
   "execution_count": 109,
   "metadata": {},
   "outputs": [
    {
     "data": {
      "text/plain": [
       "tensor([[0., 0., 0., 0., 0.],\n",
       "        [0., 0., 0., 0., 0.],\n",
       "        [0., 0., 0., 0., 0.],\n",
       "        [0., 0., 0., 0., 0.]])"
      ]
     },
     "execution_count": 109,
     "metadata": {},
     "output_type": "execute_result"
    }
   ],
   "source": [
    "x"
   ]
  },
  {
   "cell_type": "code",
   "execution_count": 110,
   "metadata": {},
   "outputs": [],
   "source": [
    "y = torch.zeros(x.shape)"
   ]
  },
  {
   "cell_type": "code",
   "execution_count": 111,
   "metadata": {},
   "outputs": [
    {
     "data": {
      "text/plain": [
       "tensor([[0., 0., 0., 0., 0.],\n",
       "        [0., 0., 0., 0., 0.],\n",
       "        [0., 0., 0., 0., 0.],\n",
       "        [0., 0., 0., 0., 0.]])"
      ]
     },
     "execution_count": 111,
     "metadata": {},
     "output_type": "execute_result"
    }
   ],
   "source": [
    "y"
   ]
  },
  {
   "cell_type": "code",
   "execution_count": 125,
   "metadata": {},
   "outputs": [],
   "source": [
    "def normalize_prob( x):\n",
    "    \"\"\"\n",
    "    Normalize along last two dimensions\n",
    "    \"\"\"\n",
    "\n",
    "    return x/torch.sum(x,dim=[-1,-2],keepdim=True)"
   ]
  },
  {
   "cell_type": "code",
   "execution_count": 126,
   "metadata": {},
   "outputs": [],
   "source": [
    "x = torch.tensor([[2.,4.],[6.,8.]])"
   ]
  },
  {
   "cell_type": "code",
   "execution_count": 127,
   "metadata": {},
   "outputs": [
    {
     "data": {
      "text/plain": [
       "tensor([[2., 4.],\n",
       "        [6., 8.]])"
      ]
     },
     "execution_count": 127,
     "metadata": {},
     "output_type": "execute_result"
    }
   ],
   "source": [
    "x"
   ]
  },
  {
   "cell_type": "code",
   "execution_count": 124,
   "metadata": {},
   "outputs": [
    {
     "data": {
      "text/plain": [
       "tensor([[0.1000, 0.2000],\n",
       "        [0.3000, 0.4000]])"
      ]
     },
     "execution_count": 124,
     "metadata": {},
     "output_type": "execute_result"
    }
   ],
   "source": [
    "normalize_prob( x)"
   ]
  },
  {
   "cell_type": "code",
   "execution_count": 128,
   "metadata": {},
   "outputs": [
    {
     "data": {
      "text/plain": [
       "tensor([[1., 1., 1., 1., 1.],\n",
       "        [1., 1., 1., 1., 1.],\n",
       "        [1., 1., 1., 1., 1.],\n",
       "        [1., 1., 1., 1., 1.],\n",
       "        [1., 1., 1., 1., 1.]])"
      ]
     },
     "execution_count": 128,
     "metadata": {},
     "output_type": "execute_result"
    }
   ],
   "source": [
    "torch.ones(5,5)"
   ]
  },
  {
   "cell_type": "code",
   "execution_count": 131,
   "metadata": {},
   "outputs": [
    {
     "data": {
      "text/plain": [
       "torch.Size([1, 2])"
      ]
     },
     "execution_count": 131,
     "metadata": {},
     "output_type": "execute_result"
    }
   ],
   "source": [
    "torch.tensor([[22.,22.]]).shape"
   ]
  },
  {
   "cell_type": "code",
   "execution_count": null,
   "metadata": {},
   "outputs": [],
   "source": []
  }
 ],
 "metadata": {
  "kernelspec": {
   "display_name": "Python 3",
   "language": "python",
   "name": "python3"
  },
  "language_info": {
   "codemirror_mode": {
    "name": "ipython",
    "version": 3
   },
   "file_extension": ".py",
   "mimetype": "text/x-python",
   "name": "python",
   "nbconvert_exporter": "python",
   "pygments_lexer": "ipython3",
   "version": "3.6.7"
  }
 },
 "nbformat": 4,
 "nbformat_minor": 2
}
